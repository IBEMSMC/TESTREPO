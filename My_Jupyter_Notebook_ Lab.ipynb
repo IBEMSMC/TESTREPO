{
  "metadata": {
    "language_info": {
      "codemirror_mode": {
        "name": "python",
        "version": 3
      },
      "file_extension": ".py",
      "mimetype": "text/x-python",
      "name": "python",
      "nbconvert_exporter": "python",
      "pygments_lexer": "ipython3",
      "version": "3.8"
    },
    "kernelspec": {
      "name": "python",
      "display_name": "Pyolite",
      "language": "python"
    }
  },
  "nbformat_minor": 4,
  "nbformat": 4,
  "cells": [
    {
      "cell_type": "markdown",
      "source": "# \"My Jupyter Notebook on IBM Watson Studio\"",
      "metadata": {}
    },
    {
      "cell_type": "markdown",
      "source": "**Ibemenem Chuks Michael**  <br>  Data Scientist",
      "metadata": {}
    },
    {
      "cell_type": "markdown",
      "source": "*I am interested in Data Science because it gives meaning to raw data and converts it into meaningful insights that\ncan be used to grow the business and recognize market trends.* \n*I am also interested in Data Science because it is in high demand, a highly Paid Career and highly employable in \njob sector.*\n",
      "metadata": {}
    },
    {
      "cell_type": "markdown",
      "source": "# 1.0 SIMPLE ARITHMETIC (H1)\n## 1.1 ADDITION OF NUMBERS(H2)\n### 1.1.1 Examples of addition of numbers(H3)\n## 1.2 SUBTRACTION OF NUMBERS(H2)\n## 1.3 MULTIPLICATION OF NUMBERS(H2)\n## 1.4 DIVISION OF NUMBERS(H2)\n",
      "metadata": {}
    },
    {
      "cell_type": "code",
      "source": "#Example of addition of numbers\nx = 1\ny = 3\nz = x + y\nprint(z)",
      "metadata": {
        "trusted": true
      },
      "execution_count": 2,
      "outputs": [
        {
          "name": "stdout",
          "text": "4\n",
          "output_type": "stream"
        }
      ]
    },
    {
      "cell_type": "markdown",
      "source": "# List of household items bulletted\n- Table\n- Chair\n- Bed\n- Bed side lamp\n# List of European football teams numbered\n1. Arsanel\n2. Chelsea\n3. Liverpool\n4. Manchester\n# hyperlinks\n[Click here to Google search engine](https://www.google.com/)",
      "metadata": {}
    },
    {
      "cell_type": "code",
      "source": "",
      "metadata": {},
      "execution_count": null,
      "outputs": []
    },
    {
      "cell_type": "code",
      "source": "",
      "metadata": {},
      "execution_count": null,
      "outputs": []
    }
  ]
}