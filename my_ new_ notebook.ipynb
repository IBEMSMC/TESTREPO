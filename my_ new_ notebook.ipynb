{
 "cells": [
  {
   "cell_type": "markdown",
   "id": "657c5524-711e-4160-8391-c85e7065d931",
   "metadata": {},
   "source": [
    "##my title"
   ]
  },
  {
   "cell_type": "code",
   "execution_count": null,
   "id": "e1198d25-560e-412d-9284-2f3db615189b",
   "metadata": {},
   "outputs": [],
   "source": []
  }
 ],
 "metadata": {
  "kernelspec": {
   "display_name": "Python",
   "language": "python",
   "name": "conda-env-python-py"
  },
  "language_info": {
   "codemirror_mode": {
    "name": "ipython",
    "version": 3
   },
   "file_extension": ".py",
   "mimetype": "text/x-python",
   "name": "python",
   "nbconvert_exporter": "python",
   "pygments_lexer": "ipython3",
   "version": "3.7.12"
  }
 },
 "nbformat": 4,
 "nbformat_minor": 5
}
